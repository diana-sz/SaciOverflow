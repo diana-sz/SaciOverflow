{
 "cells": [
  {
   "cell_type": "markdown",
   "id": "510d2f1e-36f8-4c85-9088-5d1ffed4fc09",
   "metadata": {
    "tags": []
   },
   "source": [
    "# Preprocessing of fermentation data\n",
    "\n",
    "Author: Diana Szeliova \\\n",
    "Last update: 15.7.2024\n",
    "\n",
    "* calculate mean and standard deviation\n",
    "* merge everything into one data frame\n",
    "* convert to mmol/gh\n",
    "* save data"
   ]
  },
  {
   "cell_type": "code",
   "execution_count": 1,
   "id": "dace2bd1-6803-4712-9f15-3e18742f7050",
   "metadata": {},
   "outputs": [],
   "source": [
    "import pandas as pd\n",
    "import pickle"
   ]
  },
  {
   "cell_type": "markdown",
   "id": "a542ebca-aa74-4857-8f4e-ba708d73a90d",
   "metadata": {
    "tags": []
   },
   "source": [
    "## Read data for growth rate, glucose and trehalose"
   ]
  },
  {
   "cell_type": "code",
   "execution_count": 2,
   "id": "1a3d3e59-473d-4ba2-9f2c-b9a52cd68f1c",
   "metadata": {},
   "outputs": [],
   "source": [
    "ferm_data = pd.read_csv(\"../data/experimental/ferm_data.csv\")\n",
    "ferm_data = ferm_data.drop(0, axis=0)"
   ]
  },
  {
   "cell_type": "code",
   "execution_count": 3,
   "id": "cbdadd80-f116-4016-acac-9ce7fce99f06",
   "metadata": {},
   "outputs": [],
   "source": [
    "ferm_data = ferm_data.apply(pd.to_numeric, errors='ignore') "
   ]
  },
  {
   "cell_type": "code",
   "execution_count": 4,
   "id": "92eac8cb-5f7d-490d-8108-3f92b44c1d4d",
   "metadata": {},
   "outputs": [],
   "source": [
    "# calculate mean and standard deviation\n",
    "rates = ferm_data[[\"Unnamed: 0\", \"q_Glc\", \"q_MSG\", \"Growth rate µ\"]]\n",
    "grouped_rates = rates.groupby(\"Unnamed: 0\")\n",
    "rates_mean = grouped_rates.mean()\n",
    "rates_sd = grouped_rates.std()\n",
    "rates_mean[\"q_Glc\"] = -rates_mean[\"q_Glc\"]\n",
    "rates_mean[\"q_MSG\"] = -rates_mean[\"q_MSG\"]\n",
    "rates_mean.index.name = \"Metabolite\""
   ]
  },
  {
   "cell_type": "markdown",
   "id": "e2235343-3411-44e3-94a6-93af5b9fb0b8",
   "metadata": {
    "tags": []
   },
   "source": [
    "## Read AA + trehalose rates"
   ]
  },
  {
   "cell_type": "code",
   "execution_count": 5,
   "id": "8c564ce5-6ccb-4336-92da-182fcdbe736b",
   "metadata": {
    "tags": []
   },
   "outputs": [],
   "source": [
    "# number of rows to skip\n",
    "read_info = {\"Low Cell Density\": 4,\n",
    "             \"High Cell Density\": 24,\n",
    "             \"Overfeeding\": 44}\n",
    "\n",
    "all_rates = {}\n",
    "all_sds = {}\n",
    "for cond, rows_to_skip in read_info.items():\n",
    "    data = pd.read_csv(\"../data/experimental/sulfolobus_rates.csv\",\n",
    "                       skiprows=rows_to_skip,\n",
    "                       usecols=[0, 2],\n",
    "                       nrows=16,\n",
    "                       index_col=0,\n",
    "                       header=None)\n",
    "    data.columns = [cond]\n",
    "    all_rates[cond] = data\n",
    "\n",
    "    data = pd.read_csv(\"../data/experimental/sulfolobus_stdev.csv\",\n",
    "                       skiprows=rows_to_skip,\n",
    "                       usecols=[0, 2],\n",
    "                       nrows=16,\n",
    "                       index_col=0,\n",
    "                       header=None)\n",
    "    data.columns = [cond]\n",
    "    all_sds[cond] = data"
   ]
  },
  {
   "cell_type": "code",
   "execution_count": 6,
   "id": "c93eea54-1a36-4a4e-a976-734d45c0e793",
   "metadata": {
    "tags": []
   },
   "outputs": [],
   "source": [
    "# merge data frames\n",
    "merged_rates = pd.merge(all_rates[\"Low Cell Density\"],\n",
    "                        pd.merge(all_rates[\"High Cell Density\"],\n",
    "                                 all_rates[\"Overfeeding\"],\n",
    "                                 left_index=True,\n",
    "                                 right_index=True),\n",
    "                        left_index=True, right_index=True)\n",
    "\n",
    "# no cysteine transport in the model (also not secreted)\n",
    "merged_rates.drop(\"Cysteine\", inplace=True)\n",
    "\n",
    "# rename metabolites\n",
    "merged_rates.index = \"q_\" + merged_rates.index\n",
    "merged_rates.index.name = \"\"\n",
    "\n",
    "\n",
    "merged_sd = pd.merge(all_sds[\"Low Cell Density\"],\n",
    "                     pd.merge(all_sds[\"High Cell Density\"],\n",
    "                              all_sds[\"Overfeeding\"],\n",
    "                              left_index=True,\n",
    "                              right_index=True),\n",
    "                     left_index=True,\n",
    "                     right_index=True)\n",
    "\n",
    "# no cysteine transport in the model (also not secreted)\n",
    "merged_sd.drop(\"Cysteine\", inplace=True)\n",
    "\n",
    "# rename metabolites\n",
    "merged_sd.index = \"q_\" + merged_sd.index\n",
    "merged_sd.index.name = \"\""
   ]
  },
  {
   "cell_type": "code",
   "execution_count": 7,
   "id": "39105b0f-a4a6-4cc1-80d4-6795edd340a9",
   "metadata": {},
   "outputs": [],
   "source": [
    "all_rates = pd.concat([rates_mean.T, merged_rates], axis=0)\n",
    "all_sds = pd.concat([rates_sd.T, merged_sd], axis=0)"
   ]
  },
  {
   "cell_type": "markdown",
   "id": "5a796d3f-2c26-440e-83bb-ec73434b1912",
   "metadata": {},
   "source": [
    "## Convert to mmol/g*h"
   ]
  },
  {
   "cell_type": "code",
   "execution_count": 8,
   "id": "2e80915a-405a-454e-92d8-159c93029c4b",
   "metadata": {
    "tags": []
   },
   "outputs": [],
   "source": [
    "molar_masses = pd.read_csv(\"../data/molar_masses.csv\", index_col=0)"
   ]
  },
  {
   "cell_type": "code",
   "execution_count": 9,
   "id": "d11261ee-a161-49a4-a620-0c796a21c573",
   "metadata": {
    "tags": []
   },
   "outputs": [],
   "source": [
    "# convert to mmol/g/h\n",
    "for col in all_rates.columns:\n",
    "    all_rates[col].loc[molar_masses.index] /= molar_masses[\"Molar mass [g/mol]\"]/1000\n",
    "    all_sds[col].loc[molar_masses.index] /= molar_masses[\"Molar mass [g/mol]\"]/1000"
   ]
  },
  {
   "cell_type": "code",
   "execution_count": 10,
   "id": "96ce2602-a556-4f6f-a34f-ca9cd5776af9",
   "metadata": {
    "tags": []
   },
   "outputs": [],
   "source": [
    "all_rates = all_rates.T\n",
    "all_sds = all_sds.T"
   ]
  },
  {
   "cell_type": "markdown",
   "id": "d578576a-54ea-4bd9-8a6c-913ad3f7f5a7",
   "metadata": {},
   "source": [
    "## Metabolites not detected in the waste medium set to zero"
   ]
  },
  {
   "cell_type": "code",
   "execution_count": 11,
   "id": "19a5b659-d65d-439b-a648-b62b2e165923",
   "metadata": {},
   "outputs": [],
   "source": [
    "secretions = [\"q_Lactate\", \"q_Acetate\", \"q_EtOH\", \"q_Glycerol\",\n",
    "              \"q_Oxaloacetate\", \"q_Malate\", \"q_Pyruvate\", \"q_Citrate\"]\n",
    "\n",
    "for met in secretions:\n",
    "    all_rates[met] = 0\n",
    "    all_sds[met] = 0"
   ]
  },
  {
   "cell_type": "markdown",
   "id": "9bc7cb4b-afff-4ae7-b90f-6f56f644a118",
   "metadata": {},
   "source": [
    "## Save data"
   ]
  },
  {
   "cell_type": "code",
   "execution_count": 12,
   "id": "28540f9c-75f3-42b7-8437-033dd40360fc",
   "metadata": {},
   "outputs": [],
   "source": [
    "processed_rates = {\"rates_mean\": all_rates,\n",
    "                   \"rates_sd\": all_sds}\n",
    "with open('../data/processed_rates.pkl', 'wb') as fp:\n",
    "    pickle.dump(processed_rates, fp)"
   ]
  },
  {
   "cell_type": "code",
   "execution_count": 17,
   "id": "977f8dd8-fca2-41b8-b81e-c858bbd6f7d5",
   "metadata": {
    "tags": []
   },
   "outputs": [],
   "source": [
    "all_rates.to_csv(\"../data/processed_rates.csv\")\n",
    "all_sds.to_csv(\"../data/processed_sds.csv\")"
   ]
  },
  {
   "cell_type": "code",
   "execution_count": 16,
   "id": "b5cc8306-74fb-4900-9707-24e5fb8f34f7",
   "metadata": {},
   "outputs": [
    {
     "data": {
      "text/html": [
       "<div>\n",
       "<style scoped>\n",
       "    .dataframe tbody tr th:only-of-type {\n",
       "        vertical-align: middle;\n",
       "    }\n",
       "\n",
       "    .dataframe tbody tr th {\n",
       "        vertical-align: top;\n",
       "    }\n",
       "\n",
       "    .dataframe thead th {\n",
       "        text-align: right;\n",
       "    }\n",
       "</style>\n",
       "<table border=\"1\" class=\"dataframe\">\n",
       "  <thead>\n",
       "    <tr style=\"text-align: right;\">\n",
       "      <th></th>\n",
       "      <th>q_Glc</th>\n",
       "      <th>q_MSG</th>\n",
       "      <th>Growth rate µ</th>\n",
       "      <th>q_Trehalose</th>\n",
       "      <th>q_Glycine</th>\n",
       "      <th>q_Alanine</th>\n",
       "      <th>q_Proline</th>\n",
       "      <th>q_Valine</th>\n",
       "      <th>q_Threonine</th>\n",
       "      <th>q_Isoleucine</th>\n",
       "      <th>...</th>\n",
       "      <th>q_Arginine</th>\n",
       "      <th>q_Tyrosine</th>\n",
       "      <th>q_Lactate</th>\n",
       "      <th>q_Acetate</th>\n",
       "      <th>q_EtOH</th>\n",
       "      <th>q_Glycerol</th>\n",
       "      <th>q_Oxaloacetate</th>\n",
       "      <th>q_Malate</th>\n",
       "      <th>q_Pyruvate</th>\n",
       "      <th>q_Citrate</th>\n",
       "    </tr>\n",
       "  </thead>\n",
       "  <tbody>\n",
       "    <tr>\n",
       "      <th>High Cell Density</th>\n",
       "      <td>-0.227136</td>\n",
       "      <td>-0.529681</td>\n",
       "      <td>0.036818</td>\n",
       "      <td>0.017529</td>\n",
       "      <td>0.000605</td>\n",
       "      <td>0.000018</td>\n",
       "      <td>0.000097</td>\n",
       "      <td>0.000340</td>\n",
       "      <td>0.000032</td>\n",
       "      <td>0.000009</td>\n",
       "      <td>...</td>\n",
       "      <td>0.0</td>\n",
       "      <td>0.0</td>\n",
       "      <td>0</td>\n",
       "      <td>0</td>\n",
       "      <td>0</td>\n",
       "      <td>0</td>\n",
       "      <td>0</td>\n",
       "      <td>0</td>\n",
       "      <td>0</td>\n",
       "      <td>0</td>\n",
       "    </tr>\n",
       "    <tr>\n",
       "      <th>Low Cell Density</th>\n",
       "      <td>-0.129521</td>\n",
       "      <td>-0.366316</td>\n",
       "      <td>0.030428</td>\n",
       "      <td>0.004324</td>\n",
       "      <td>0.000000</td>\n",
       "      <td>0.000000</td>\n",
       "      <td>0.000000</td>\n",
       "      <td>0.000000</td>\n",
       "      <td>0.000002</td>\n",
       "      <td>0.000000</td>\n",
       "      <td>...</td>\n",
       "      <td>0.0</td>\n",
       "      <td>0.0</td>\n",
       "      <td>0</td>\n",
       "      <td>0</td>\n",
       "      <td>0</td>\n",
       "      <td>0</td>\n",
       "      <td>0</td>\n",
       "      <td>0</td>\n",
       "      <td>0</td>\n",
       "      <td>0</td>\n",
       "    </tr>\n",
       "    <tr>\n",
       "      <th>Overfeeding</th>\n",
       "      <td>-0.330680</td>\n",
       "      <td>-0.711466</td>\n",
       "      <td>0.054386</td>\n",
       "      <td>0.026731</td>\n",
       "      <td>0.006019</td>\n",
       "      <td>0.003367</td>\n",
       "      <td>0.000127</td>\n",
       "      <td>0.029035</td>\n",
       "      <td>0.000257</td>\n",
       "      <td>0.000512</td>\n",
       "      <td>...</td>\n",
       "      <td>0.0</td>\n",
       "      <td>0.0</td>\n",
       "      <td>0</td>\n",
       "      <td>0</td>\n",
       "      <td>0</td>\n",
       "      <td>0</td>\n",
       "      <td>0</td>\n",
       "      <td>0</td>\n",
       "      <td>0</td>\n",
       "      <td>0</td>\n",
       "    </tr>\n",
       "  </tbody>\n",
       "</table>\n",
       "<p>3 rows × 26 columns</p>\n",
       "</div>"
      ],
      "text/plain": [
       "                      q_Glc     q_MSG  Growth rate µ  q_Trehalose  q_Glycine  \\\n",
       "High Cell Density -0.227136 -0.529681       0.036818     0.017529   0.000605   \n",
       "Low Cell Density  -0.129521 -0.366316       0.030428     0.004324   0.000000   \n",
       "Overfeeding       -0.330680 -0.711466       0.054386     0.026731   0.006019   \n",
       "\n",
       "                   q_Alanine  q_Proline  q_Valine  q_Threonine  q_Isoleucine  \\\n",
       "High Cell Density   0.000018   0.000097  0.000340     0.000032      0.000009   \n",
       "Low Cell Density    0.000000   0.000000  0.000000     0.000002      0.000000   \n",
       "Overfeeding         0.003367   0.000127  0.029035     0.000257      0.000512   \n",
       "\n",
       "                   ...  q_Arginine  q_Tyrosine  q_Lactate  q_Acetate  q_EtOH  \\\n",
       "High Cell Density  ...         0.0         0.0          0          0       0   \n",
       "Low Cell Density   ...         0.0         0.0          0          0       0   \n",
       "Overfeeding        ...         0.0         0.0          0          0       0   \n",
       "\n",
       "                   q_Glycerol  q_Oxaloacetate  q_Malate  q_Pyruvate  q_Citrate  \n",
       "High Cell Density           0               0         0           0          0  \n",
       "Low Cell Density            0               0         0           0          0  \n",
       "Overfeeding                 0               0         0           0          0  \n",
       "\n",
       "[3 rows x 26 columns]"
      ]
     },
     "execution_count": 16,
     "metadata": {},
     "output_type": "execute_result"
    }
   ],
   "source": [
    "all_rates"
   ]
  },
  {
   "cell_type": "code",
   "execution_count": null,
   "id": "c068d845-cdc3-4336-a7e1-4325bd4e3cdd",
   "metadata": {},
   "outputs": [],
   "source": []
  }
 ],
 "metadata": {
  "kernelspec": {
   "display_name": "efmtool",
   "language": "python",
   "name": "efmtool"
  },
  "language_info": {
   "codemirror_mode": {
    "name": "ipython",
    "version": 3
   },
   "file_extension": ".py",
   "mimetype": "text/x-python",
   "name": "python",
   "nbconvert_exporter": "python",
   "pygments_lexer": "ipython3",
   "version": "3.8.15"
  }
 },
 "nbformat": 4,
 "nbformat_minor": 5
}
