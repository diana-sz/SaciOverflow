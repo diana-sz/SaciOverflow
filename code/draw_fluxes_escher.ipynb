{
 "cells": [
  {
   "cell_type": "markdown",
   "id": "c121ca8a-0d59-45eb-b45f-72775734c6ca",
   "metadata": {},
   "source": [
    "# Plot fluxes predicted with pFBA with escher\n",
    "Author: Diana Szeliova \\\n",
    "Last update: 15.7.2024\n",
    "\n",
    "* escher map created manually with Escher Builder https://escher.github.io/#/"
   ]
  },
  {
   "cell_type": "code",
   "execution_count": 1,
   "id": "defe10e7-7c14-4ee1-9596-e8b1a3c418e8",
   "metadata": {},
   "outputs": [],
   "source": [
    "import pandas as pd\n",
    "import escher\n",
    "import itertools\n",
    "from escher import Builder"
   ]
  },
  {
   "cell_type": "code",
   "execution_count": 2,
   "id": "bee790a4-7635-4c54-be3b-110db392f7d1",
   "metadata": {},
   "outputs": [],
   "source": [
    "# load results generated with FBA_sampling.ipynb\n",
    "central_metabolism = pd.read_csv(\"../data/central_fluxes_pfba.csv\", index_col=0)\n",
    "central_metabolism['unique_ID'] = central_metabolism['unique_ID'].astype(str)"
   ]
  },
  {
   "cell_type": "code",
   "execution_count": 3,
   "id": "ca0933fe-3e86-49ac-99ad-ccfff8a17c08",
   "metadata": {},
   "outputs": [],
   "source": [
    "conditions = [\"low\", \"high\", \"overfeeding\"]\n",
    "simulation = [\"pfba\"]\n",
    "normalization = [\"\", \"_normalized\"]\n",
    "all_simulations = [conditions, simulation, normalization]\n",
    "combinations = list(itertools.product(*all_simulations))"
   ]
  },
  {
   "cell_type": "code",
   "execution_count": 4,
   "id": "24ab990d-a069-46c6-8705-1224e065e07d",
   "metadata": {},
   "outputs": [],
   "source": [
    "for combo in combinations:\n",
    "    sim_ID = f\"{combo[0]}_{combo[1]}{combo[2]}\"\n",
    "    flux_dict = dict(zip(central_metabolism.unique_ID, central_metabolism[sim_ID]))\n",
    "\n",
    "    builder = Builder()\n",
    "    builder = escher.Builder(map_json='../data/escher_map.json',\n",
    "                             model_json=\"../data/Sulfolobus-solfataricus_corrected.json\",\n",
    "                             reaction_data=flux_dict,\n",
    "                             reaction_scale_preset=\"GaBuRd\",\n",
    "                             identifiers_on_map=\"name\")\n",
    "    builder.save_html(f\"../figures/{sim_ID}_escher.html\")"
   ]
  },
  {
   "cell_type": "code",
   "execution_count": null,
   "id": "382d55e5-32a6-46b0-899b-cca2adabf399",
   "metadata": {},
   "outputs": [],
   "source": []
  }
 ],
 "metadata": {
  "kernelspec": {
   "display_name": "efmtool",
   "language": "python",
   "name": "efmtool"
  },
  "language_info": {
   "codemirror_mode": {
    "name": "ipython",
    "version": 3
   },
   "file_extension": ".py",
   "mimetype": "text/x-python",
   "name": "python",
   "nbconvert_exporter": "python",
   "pygments_lexer": "ipython3",
   "version": "3.8.15"
  }
 },
 "nbformat": 4,
 "nbformat_minor": 5
}
