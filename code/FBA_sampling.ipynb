{
 "cells": [
  {
   "cell_type": "markdown",
   "id": "cbba1810-e02e-408c-a3fd-f65b0a2ad149",
   "metadata": {},
   "source": [
    "# Perform pFBA\n",
    "Author: Diana Szeliova \\\n",
    "Last update: 15.7.2024\n",
    "\n",
    "* pFBA for three experimental conditions: Low cell density, High cell density and Overfeeding\n",
    "* constraints: uptake and secretion rates, minimum NGAM (non-growth associated mainenance energy) from https://doi.org/10.1371/journal.pone.0043401"
   ]
  },
  {
   "cell_type": "code",
   "execution_count": 1,
   "id": "a2a1166e-17a8-438a-94c0-f398b0ee82af",
   "metadata": {},
   "outputs": [],
   "source": [
    "import pickle\n",
    "import cobra\n",
    "import pandas as pd\n",
    "import matplotlib.pyplot as plt\n",
    "from model_class import (Model, plot_sampling,\n",
    "                         get_central_fluxes)\n",
    "\n",
    "# Define global figure parameters\n",
    "%matplotlib inline\n",
    "plt.rcParams.update({'font.size': 15})\n",
    "plt.rcParams['figure.figsize'] = [10, 6]"
   ]
  },
  {
   "cell_type": "markdown",
   "id": "8e4a3dc2-fbc0-4bf2-a635-374b8386eae8",
   "metadata": {
    "tags": []
   },
   "source": [
    "## Constants"
   ]
  },
  {
   "cell_type": "code",
   "execution_count": 2,
   "id": "1703290a-37fa-4ee5-93b0-46539f9bbe50",
   "metadata": {},
   "outputs": [],
   "source": [
    "NGAM = 1.9\n",
    "N_SAMPLES = 1000\n",
    "conditions = {\"Low Cell Density\": \"low\",\n",
    "              \"High Cell Density\": \"high\",\n",
    "              \"Overfeeding\": \"overfeeding\"}"
   ]
  },
  {
   "cell_type": "markdown",
   "id": "b61153d6-8017-477c-bc60-e7601373a707",
   "metadata": {
    "tags": []
   },
   "source": [
    "## Read data"
   ]
  },
  {
   "cell_type": "code",
   "execution_count": 3,
   "id": "edfd6382-9813-41a4-99a0-0c7b0d054603",
   "metadata": {},
   "outputs": [],
   "source": [
    "with open('../data/sulfolobus_reaction_ids.pkl', 'rb') as fp:\n",
    "    reaction_ids = pickle.load(fp)\n",
    "with open('../data/processed_rates.pkl', 'rb') as fp:\n",
    "    rates = pickle.load(fp)"
   ]
  },
  {
   "cell_type": "code",
   "execution_count": 4,
   "id": "09023217-99db-44a2-9458-c2fc4fe087e9",
   "metadata": {},
   "outputs": [],
   "source": [
    "# model\n",
    "cobra_model = cobra.io.read_sbml_model(\"../data/Sulfolobus-solfataricus_corrected.xml\")\n",
    "cobra_model.solver = \"cplex\""
   ]
  },
  {
   "cell_type": "code",
   "execution_count": 5,
   "id": "b0514b1a-0d64-462a-b34f-8667b82c4a13",
   "metadata": {},
   "outputs": [],
   "source": [
    "# reactions to extract\n",
    "central_metabolism = pd.read_csv(\"../data/Sulfolobus_central_metabolism.csv\")"
   ]
  },
  {
   "cell_type": "code",
   "execution_count": 6,
   "id": "395a8d6d-261a-4ac1-8855-b2807dcf6779",
   "metadata": {
    "tags": []
   },
   "outputs": [],
   "source": [
    "unique_rxn_ids = []\n",
    "for index, row in central_metabolism.iterrows():\n",
    "    if row.ID != row.ID:\n",
    "        unique_rxn_ids.append(\"\")\n",
    "        continue\n",
    "\n",
    "    unique_rxn_ids.append(str(row.ID).split(\", \")[0])\n",
    "central_metabolism[\"unique_ID\"] = unique_rxn_ids"
   ]
  },
  {
   "cell_type": "markdown",
   "id": "d97d5b1a-2a91-42e6-8adc-768b4a801972",
   "metadata": {
    "tags": []
   },
   "source": [
    "## Functions"
   ]
  },
  {
   "cell_type": "code",
   "execution_count": 7,
   "id": "e7f4f009-3d0e-48e5-9021-cc6093b316ae",
   "metadata": {
    "tags": []
   },
   "outputs": [],
   "source": [
    "def set_common_bounds(model, NGAM):\n",
    "    \"\"\"\n",
    "    set bounds on some specific reactions\n",
    "    \"\"\"\n",
    "    common_bounds = {\"198\": (0, 0),  # hexokinase - no gene\n",
    "                     \"5\": (NGAM, NGAM),  # non-growth maintenance energy\n",
    "                     \"133\": (-1000, 1000),  # trehalose transport reversible\n",
    "                     #\"173\": (0,1000), # relax 173 & 217, otherwise no solution \n",
    "                     #\"217\": (0,1000)\n",
    "                    } # if RNAseq integrated + hexokinase off\n",
    "    for rxn, bound in common_bounds.items():\n",
    "        model.set_lower_bound(rxn, bound[0])\n",
    "        model.set_upper_bound(rxn, bound[1])"
   ]
  },
  {
   "cell_type": "markdown",
   "id": "36cb11cd-b42a-4980-b1fe-97ea5fedee4c",
   "metadata": {
    "tags": []
   },
   "source": [
    "## pFBA - maximize biomass\n",
    "* upper and lower bounds of exchange reactions set to mean + 2SD, mean - 2SD"
   ]
  },
  {
   "cell_type": "code",
   "execution_count": 8,
   "id": "4b51cdda-3445-4303-a10b-87878fb60588",
   "metadata": {},
   "outputs": [],
   "source": [
    "rates_mean = rates[\"rates_mean\"]\n",
    "rates_sd = rates[\"rates_sd\"]"
   ]
  },
  {
   "cell_type": "code",
   "execution_count": 9,
   "id": "075515e1-d416-4ef0-85e4-b6c80b828461",
   "metadata": {
    "tags": []
   },
   "outputs": [
    {
     "name": "stdout",
     "output_type": "stream",
     "text": [
      "***** Low Cell Density *****\n",
      "Objective\n",
      "=========\n",
      "1.0 0 = 0.022779774960390013\n",
      "\n",
      "Uptake\n",
      "------\n",
      "Metabolite Reaction     Flux  C-Number C-Flux\n",
      "       180      138 0.003796         0  0.00%\n",
      "        79       21 0.000158         0  0.00%\n",
      "        91       33    3.317         0  0.00%\n",
      "        97       41    1.444         0  0.00%\n",
      "       120       67   0.3756         0  0.00%\n",
      "       140       96   0.1386         0  0.00%\n",
      "       864      990  0.00541         0  0.00%\n",
      "\n",
      "Secretion\n",
      "---------\n",
      "Metabolite Reaction       Flux  C-Number C-Flux\n",
      "       175      132   -0.00144         0  0.00%\n",
      "       176      134    -0.1786         0  0.00%\n",
      "        73       15 -6.795E-06         0  0.00%\n",
      "        77       19  -0.000158         0  0.00%\n",
      "        78       20 -0.0002816         0  0.00%\n",
      "        89       31     -1.711         0  0.00%\n",
      "        92       35     -1.447         0  0.00%\n",
      "        93       37 -3.398E-06         0  0.00%\n",
      "       128       82 -2.128E-06         0  0.00%\n",
      "\n",
      "***** High Cell Density *****\n",
      "Objective\n",
      "=========\n",
      "1.0 0 = 0.04067052041443565\n",
      "\n",
      "Uptake\n",
      "------\n",
      "Metabolite Reaction      Flux  C-Number C-Flux\n",
      "       180      138  0.006777         0  0.00%\n",
      "        79       21 0.0002821         0  0.00%\n",
      "        91       33     4.641         0  0.00%\n",
      "        97       41     1.904         0  0.00%\n",
      "       120       67    0.5349         0  0.00%\n",
      "       140       96    0.2513         0  0.00%\n",
      "       864      990  0.009659         0  0.00%\n",
      "\n",
      "Secretion\n",
      "---------\n",
      "Metabolite Reaction       Flux  C-Number C-Flux\n",
      "       152      108 -0.0005982         0  0.00%\n",
      "       175      132  -0.009436         0  0.00%\n",
      "       176      134    -0.1821         0  0.00%\n",
      "        73       15 -1.213E-05         0  0.00%\n",
      "        77       19 -0.0002821         0  0.00%\n",
      "        78       20 -0.0005028         0  0.00%\n",
      "        89       31     -2.313         0  0.00%\n",
      "        92       35     -2.121         0  0.00%\n",
      "        93       37 -6.066E-06         0  0.00%\n",
      "       110       54 -1.733E-05         0  0.00%\n",
      "       117       63 -2.848E-05         0  0.00%\n",
      "       122       71 -9.051E-06         0  0.00%\n",
      "       126       79 -9.629E-05         0  0.00%\n",
      "       128       82 -3.182E-05         0  0.00%\n",
      "       129       84 -0.0003363         0  0.00%\n",
      "        10      992 -2.247E-06         0  0.00%\n",
      "\n",
      "***** Overfeeding *****\n",
      "Objective\n",
      "=========\n",
      "1.0 0 = 0.06439050501823507\n",
      "\n",
      "Uptake\n",
      "------\n",
      "Metabolite Reaction      Flux  C-Number C-Flux\n",
      "       180      138   0.01073         0  0.00%\n",
      "        79       21 0.0004466         0  0.00%\n",
      "        91       33     6.435         0  0.00%\n",
      "        97       41     2.508         0  0.00%\n",
      "       120       67    0.8218         0  0.00%\n",
      "       140       96    0.3638         0  0.00%\n",
      "       864      990   0.01529         0  0.00%\n",
      "\n",
      "Secretion\n",
      "---------\n",
      "Metabolite Reaction       Flux  C-Number C-Flux\n",
      "       152      108  -0.005345         0  0.00%\n",
      "       175      132   -0.01651         0  0.00%\n",
      "       176      134      -0.23         0  0.00%\n",
      "        73       15 -1.921E-05         0  0.00%\n",
      "        77       19 -0.0004466         0  0.00%\n",
      "        78       20 -0.0007961         0  0.00%\n",
      "        89       31     -3.166         0  0.00%\n",
      "        92       35     -2.948         0  0.00%\n",
      "        93       37 -9.604E-06         0  0.00%\n",
      "       110       54  -0.002981         0  0.00%\n",
      "       117       63 -0.0001153         0  0.00%\n",
      "       122       71 -0.0004536         0  0.00%\n",
      "       125       77  -1.65E-05         0  0.00%\n",
      "       126       79 -0.0001149         0  0.00%\n",
      "       128       82 -0.0002283         0  0.00%\n",
      "       129       84   -0.02571         0  0.00%\n",
      "        10      992 -6.662E-06         0  0.00%\n",
      "\n"
     ]
    }
   ],
   "source": [
    "for condition in conditions:\n",
    "    print(f\"***** {condition} *****\")\n",
    "    model = Model(cobra_model)\n",
    "    model.model.objective = '0'\n",
    "    set_common_bounds(model, NGAM)\n",
    "    model.make_transporters_reversible(reaction_ids)\n",
    "    model.set_rates(rates_mean.loc[condition],\n",
    "                    rates_sd.loc[condition],\n",
    "                    mode=\"mean_sd\")\n",
    "    fba = cobra.flux_analysis.pfba(model.model)\n",
    "    print(model.model.summary(fba))"
   ]
  },
  {
   "cell_type": "markdown",
   "id": "1704afab-c4cf-421a-8d18-adec5a5e0862",
   "metadata": {},
   "source": [
    "## pFBA with sampling\n",
    "* run pFBA N_SAMPLES times\n",
    "* upper and lower bounds of exchange reactions sampled from the interval mean +- 2*SD"
   ]
  },
  {
   "cell_type": "code",
   "execution_count": 10,
   "id": "3d26fda3-e371-469d-b801-fb3c08780ee0",
   "metadata": {
    "tags": []
   },
   "outputs": [
    {
     "name": "stdout",
     "output_type": "stream",
     "text": [
      "Low Cell Density: 1000/1000 feasible solutions\n",
      "High Cell Density: 1000/1000 feasible solutions\n",
      "Overfeeding: 1000/1000 feasible solutions\n"
     ]
    }
   ],
   "source": [
    "growth_rates = {}\n",
    "fluxes = {}\n",
    "\n",
    "for c_name in conditions:\n",
    "    n_feasible = 0\n",
    "    flux_list = []\n",
    "    mu_list = []\n",
    "\n",
    "    for i in range(N_SAMPLES):\n",
    "        model = Model(cobra_model)\n",
    "        set_common_bounds(model, NGAM)\n",
    "        # set_rates only sets rates that are in model.rate_ids attribute\n",
    "        model.set_rates(rates_mean.loc[c_name],\n",
    "                        rates_sd.loc[c_name],\n",
    "                        mode=\"sampled\")\n",
    "        model.make_transporters_reversible(reaction_ids)\n",
    "        n_feasible, flux_list, mu_list = model.run_pfba_sampled(n_feasible,\n",
    "                                                                flux_list,\n",
    "                                                                mu_list)\n",
    "    growth_rates[c_name] = mu_list\n",
    "    fluxes[c_name] = pd.concat(flux_list, axis=1)\n",
    "    fluxes[c_name].columns = [i for i in range(len(flux_list))]\n",
    "\n",
    "    print(f\"{c_name}: {n_feasible}/{N_SAMPLES} feasible solutions\")"
   ]
  },
  {
   "cell_type": "code",
   "execution_count": 11,
   "id": "c18306b4-77eb-4f9d-a8fa-07e7b831e0d5",
   "metadata": {},
   "outputs": [
    {
     "data": {
      "image/png": "[encoded data removed]",
      "text/plain": [
       "<Figure size 720x432 with 1 Axes>"
      ]
     },
     "metadata": {
      "needs_background": "light"
     },
     "output_type": "display_data"
    }
   ],
   "source": [
    "plot_sampling(growth_rates, rates_mean, rates_sd,\n",
    "              \"Growth rate µ\", \"Specific growth rate µ [1/h]\")\n",
    "plt.savefig(\"../figures/pFBA_sampled_growth_rate.jpg\")"
   ]
  },
  {
   "cell_type": "markdown",
   "id": "7d9e1f85-5e47-40d4-9946-5e72506e9243",
   "metadata": {},
   "source": [
    "## Save data (unnormalized / normalized to biomass flux)"
   ]
  },
  {
   "cell_type": "code",
   "execution_count": 13,
   "id": "087131aa-cba9-487b-b21b-852797fb2db2",
   "metadata": {
    "tags": []
   },
   "outputs": [],
   "source": [
    "for condition, fluxes_one in fluxes.items():\n",
    "    name = conditions[condition]\n",
    "    fluxes_one[\"fluxes\"] = fluxes_one.mean(axis=1)\n",
    "    mapped_fluxes = get_central_fluxes(central_metabolism, fluxes_one)\n",
    "    central_metabolism[f\"{name}_pfba\"] = mapped_fluxes\n",
    "\n",
    "    # normalize by biomass flux (reaction ID: 0)\n",
    "    central_metabolism[f\"{name}_pfba_normalized\"] = mapped_fluxes/fluxes_one.fluxes[\"0\"]"
   ]
  },
  {
   "cell_type": "code",
   "execution_count": 14,
   "id": "68fe854f-ee64-4bfa-b50c-e8920f784c22",
   "metadata": {
    "tags": []
   },
   "outputs": [],
   "source": [
    "central_metabolism.to_csv(\"../data/central_fluxes_pfba.csv\")"
   ]
  },
  {
   "cell_type": "code",
   "execution_count": null,
   "id": "6b630f52-84f6-4c8b-9a81-2c7728e7befd",
   "metadata": {},
   "outputs": [],
   "source": []
  }
 ],
 "metadata": {
  "kernelspec": {
   "display_name": "mypy38",
   "language": "python",
   "name": "mypy38"
  },
  "language_info": {
   "codemirror_mode": {
    "name": "ipython",
    "version": 3
   },
   "file_extension": ".py",
   "mimetype": "text/x-python",
   "name": "python",
   "nbconvert_exporter": "python",
   "pygments_lexer": "ipython3",
   "version": "3.8.13"
  }
 },
 "nbformat": 4,
 "nbformat_minor": 5
}
